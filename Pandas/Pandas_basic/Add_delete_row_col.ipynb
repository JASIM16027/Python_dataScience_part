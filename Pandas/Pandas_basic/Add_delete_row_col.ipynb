{
 "cells": [
  {
   "cell_type": "code",
   "execution_count": 1,
   "metadata": {},
   "outputs": [],
   "source": [
    "\n",
    "people = {\n",
    "    'First' : ['Jasim', 'Shanto', 'Abdur', 'Jewel'],\n",
    "    'Last'  : ['Uddin', 'Rahman', 'Rahim', 'Mahmud'],\n",
    "    'Email' : ['jasimcse@gmail.com', 'shantocse@gmail.com', 'rahimcse@gmail.com', 'jewelcse@gmail.com']\n",
    "}"
   ]
  },
  {
   "cell_type": "code",
   "execution_count": 2,
   "metadata": {},
   "outputs": [],
   "source": [
    "import pandas as pd"
   ]
  },
  {
   "cell_type": "code",
   "execution_count": 3,
   "metadata": {},
   "outputs": [],
   "source": [
    "df = pd.DataFrame(people)"
   ]
  },
  {
   "cell_type": "code",
   "execution_count": 4,
   "metadata": {},
   "outputs": [
    {
     "data": {
      "text/html": [
       "<div>\n",
       "<style scoped>\n",
       "    .dataframe tbody tr th:only-of-type {\n",
       "        vertical-align: middle;\n",
       "    }\n",
       "\n",
       "    .dataframe tbody tr th {\n",
       "        vertical-align: top;\n",
       "    }\n",
       "\n",
       "    .dataframe thead th {\n",
       "        text-align: right;\n",
       "    }\n",
       "</style>\n",
       "<table border=\"1\" class=\"dataframe\">\n",
       "  <thead>\n",
       "    <tr style=\"text-align: right;\">\n",
       "      <th></th>\n",
       "      <th>First</th>\n",
       "      <th>Last</th>\n",
       "      <th>Email</th>\n",
       "    </tr>\n",
       "  </thead>\n",
       "  <tbody>\n",
       "    <tr>\n",
       "      <th>0</th>\n",
       "      <td>Jasim</td>\n",
       "      <td>Uddin</td>\n",
       "      <td>jasimcse@gmail.com</td>\n",
       "    </tr>\n",
       "    <tr>\n",
       "      <th>1</th>\n",
       "      <td>Shanto</td>\n",
       "      <td>Rahman</td>\n",
       "      <td>shantocse@gmail.com</td>\n",
       "    </tr>\n",
       "    <tr>\n",
       "      <th>2</th>\n",
       "      <td>Abdur</td>\n",
       "      <td>Rahim</td>\n",
       "      <td>rahimcse@gmail.com</td>\n",
       "    </tr>\n",
       "    <tr>\n",
       "      <th>3</th>\n",
       "      <td>Jewel</td>\n",
       "      <td>Mahmud</td>\n",
       "      <td>jewelcse@gmail.com</td>\n",
       "    </tr>\n",
       "  </tbody>\n",
       "</table>\n",
       "</div>"
      ],
      "text/plain": [
       "    First    Last                Email\n",
       "0   Jasim   Uddin   jasimcse@gmail.com\n",
       "1  Shanto  Rahman  shantocse@gmail.com\n",
       "2   Abdur   Rahim   rahimcse@gmail.com\n",
       "3   Jewel  Mahmud   jewelcse@gmail.com"
      ]
     },
     "execution_count": 4,
     "metadata": {},
     "output_type": "execute_result"
    }
   ],
   "source": [
    "df"
   ]
  },
  {
   "cell_type": "code",
   "execution_count": 5,
   "metadata": {},
   "outputs": [
    {
     "data": {
      "text/plain": [
       "0      Jasim Uddin\n",
       "1    Shanto Rahman\n",
       "2      Abdur Rahim\n",
       "3     Jewel Mahmud\n",
       "dtype: object"
      ]
     },
     "execution_count": 5,
     "metadata": {},
     "output_type": "execute_result"
    }
   ],
   "source": [
    "df['First']+ ' ' + df['Last']"
   ]
  },
  {
   "cell_type": "code",
   "execution_count": 6,
   "metadata": {},
   "outputs": [],
   "source": [
    "df['fullname'] = df['First']+ ' ' + df['Last']"
   ]
  },
  {
   "cell_type": "code",
   "execution_count": 7,
   "metadata": {},
   "outputs": [],
   "source": [
    "#df.columns = ['first','last', 'email', 'fullname']\n",
    "df.rename(columns = {'First': 'first', 'Last': 'last'}, inplace=True)"
   ]
  },
  {
   "cell_type": "code",
   "execution_count": 8,
   "metadata": {},
   "outputs": [
    {
     "data": {
      "text/html": [
       "<div>\n",
       "<style scoped>\n",
       "    .dataframe tbody tr th:only-of-type {\n",
       "        vertical-align: middle;\n",
       "    }\n",
       "\n",
       "    .dataframe tbody tr th {\n",
       "        vertical-align: top;\n",
       "    }\n",
       "\n",
       "    .dataframe thead th {\n",
       "        text-align: right;\n",
       "    }\n",
       "</style>\n",
       "<table border=\"1\" class=\"dataframe\">\n",
       "  <thead>\n",
       "    <tr style=\"text-align: right;\">\n",
       "      <th></th>\n",
       "      <th>first</th>\n",
       "      <th>last</th>\n",
       "      <th>Email</th>\n",
       "      <th>fullname</th>\n",
       "    </tr>\n",
       "  </thead>\n",
       "  <tbody>\n",
       "    <tr>\n",
       "      <th>0</th>\n",
       "      <td>Jasim</td>\n",
       "      <td>Uddin</td>\n",
       "      <td>jasimcse@gmail.com</td>\n",
       "      <td>Jasim Uddin</td>\n",
       "    </tr>\n",
       "    <tr>\n",
       "      <th>1</th>\n",
       "      <td>Shanto</td>\n",
       "      <td>Rahman</td>\n",
       "      <td>shantocse@gmail.com</td>\n",
       "      <td>Shanto Rahman</td>\n",
       "    </tr>\n",
       "    <tr>\n",
       "      <th>2</th>\n",
       "      <td>Abdur</td>\n",
       "      <td>Rahim</td>\n",
       "      <td>rahimcse@gmail.com</td>\n",
       "      <td>Abdur Rahim</td>\n",
       "    </tr>\n",
       "    <tr>\n",
       "      <th>3</th>\n",
       "      <td>Jewel</td>\n",
       "      <td>Mahmud</td>\n",
       "      <td>jewelcse@gmail.com</td>\n",
       "      <td>Jewel Mahmud</td>\n",
       "    </tr>\n",
       "  </tbody>\n",
       "</table>\n",
       "</div>"
      ],
      "text/plain": [
       "    first    last                Email       fullname\n",
       "0   Jasim   Uddin   jasimcse@gmail.com    Jasim Uddin\n",
       "1  Shanto  Rahman  shantocse@gmail.com  Shanto Rahman\n",
       "2   Abdur   Rahim   rahimcse@gmail.com    Abdur Rahim\n",
       "3   Jewel  Mahmud   jewelcse@gmail.com   Jewel Mahmud"
      ]
     },
     "execution_count": 8,
     "metadata": {},
     "output_type": "execute_result"
    }
   ],
   "source": [
    "df"
   ]
  },
  {
   "cell_type": "code",
   "execution_count": 9,
   "metadata": {},
   "outputs": [],
   "source": [
    "#df.drop(columns = 'last')"
   ]
  },
  {
   "cell_type": "code",
   "execution_count": 10,
   "metadata": {},
   "outputs": [],
   "source": [
    "df.drop(columns = ['first', 'last'], inplace = True)"
   ]
  },
  {
   "cell_type": "code",
   "execution_count": 11,
   "metadata": {},
   "outputs": [
    {
     "data": {
      "text/html": [
       "<div>\n",
       "<style scoped>\n",
       "    .dataframe tbody tr th:only-of-type {\n",
       "        vertical-align: middle;\n",
       "    }\n",
       "\n",
       "    .dataframe tbody tr th {\n",
       "        vertical-align: top;\n",
       "    }\n",
       "\n",
       "    .dataframe thead th {\n",
       "        text-align: right;\n",
       "    }\n",
       "</style>\n",
       "<table border=\"1\" class=\"dataframe\">\n",
       "  <thead>\n",
       "    <tr style=\"text-align: right;\">\n",
       "      <th></th>\n",
       "      <th>0</th>\n",
       "      <th>1</th>\n",
       "    </tr>\n",
       "  </thead>\n",
       "  <tbody>\n",
       "    <tr>\n",
       "      <th>0</th>\n",
       "      <td>Jasim</td>\n",
       "      <td>Uddin</td>\n",
       "    </tr>\n",
       "    <tr>\n",
       "      <th>1</th>\n",
       "      <td>Shanto</td>\n",
       "      <td>Rahman</td>\n",
       "    </tr>\n",
       "    <tr>\n",
       "      <th>2</th>\n",
       "      <td>Abdur</td>\n",
       "      <td>Rahim</td>\n",
       "    </tr>\n",
       "    <tr>\n",
       "      <th>3</th>\n",
       "      <td>Jewel</td>\n",
       "      <td>Mahmud</td>\n",
       "    </tr>\n",
       "  </tbody>\n",
       "</table>\n",
       "</div>"
      ],
      "text/plain": [
       "        0       1\n",
       "0   Jasim   Uddin\n",
       "1  Shanto  Rahman\n",
       "2   Abdur   Rahim\n",
       "3   Jewel  Mahmud"
      ]
     },
     "execution_count": 11,
     "metadata": {},
     "output_type": "execute_result"
    }
   ],
   "source": [
    "df['fullname'].str.split(' ', expand =True)"
   ]
  },
  {
   "cell_type": "code",
   "execution_count": 12,
   "metadata": {},
   "outputs": [],
   "source": [
    "df[['first', 'last']] = df['fullname'].str.split(' ', expand =True)"
   ]
  },
  {
   "cell_type": "code",
   "execution_count": 13,
   "metadata": {},
   "outputs": [
    {
     "data": {
      "text/html": [
       "<div>\n",
       "<style scoped>\n",
       "    .dataframe tbody tr th:only-of-type {\n",
       "        vertical-align: middle;\n",
       "    }\n",
       "\n",
       "    .dataframe tbody tr th {\n",
       "        vertical-align: top;\n",
       "    }\n",
       "\n",
       "    .dataframe thead th {\n",
       "        text-align: right;\n",
       "    }\n",
       "</style>\n",
       "<table border=\"1\" class=\"dataframe\">\n",
       "  <thead>\n",
       "    <tr style=\"text-align: right;\">\n",
       "      <th></th>\n",
       "      <th>Email</th>\n",
       "      <th>fullname</th>\n",
       "      <th>first</th>\n",
       "      <th>last</th>\n",
       "    </tr>\n",
       "  </thead>\n",
       "  <tbody>\n",
       "    <tr>\n",
       "      <th>0</th>\n",
       "      <td>jasimcse@gmail.com</td>\n",
       "      <td>Jasim Uddin</td>\n",
       "      <td>Jasim</td>\n",
       "      <td>Uddin</td>\n",
       "    </tr>\n",
       "    <tr>\n",
       "      <th>1</th>\n",
       "      <td>shantocse@gmail.com</td>\n",
       "      <td>Shanto Rahman</td>\n",
       "      <td>Shanto</td>\n",
       "      <td>Rahman</td>\n",
       "    </tr>\n",
       "    <tr>\n",
       "      <th>2</th>\n",
       "      <td>rahimcse@gmail.com</td>\n",
       "      <td>Abdur Rahim</td>\n",
       "      <td>Abdur</td>\n",
       "      <td>Rahim</td>\n",
       "    </tr>\n",
       "    <tr>\n",
       "      <th>3</th>\n",
       "      <td>jewelcse@gmail.com</td>\n",
       "      <td>Jewel Mahmud</td>\n",
       "      <td>Jewel</td>\n",
       "      <td>Mahmud</td>\n",
       "    </tr>\n",
       "  </tbody>\n",
       "</table>\n",
       "</div>"
      ],
      "text/plain": [
       "                 Email       fullname   first    last\n",
       "0   jasimcse@gmail.com    Jasim Uddin   Jasim   Uddin\n",
       "1  shantocse@gmail.com  Shanto Rahman  Shanto  Rahman\n",
       "2   rahimcse@gmail.com    Abdur Rahim   Abdur   Rahim\n",
       "3   jewelcse@gmail.com   Jewel Mahmud   Jewel  Mahmud"
      ]
     },
     "execution_count": 13,
     "metadata": {},
     "output_type": "execute_result"
    }
   ],
   "source": [
    "df"
   ]
  },
  {
   "cell_type": "code",
   "execution_count": 14,
   "metadata": {},
   "outputs": [
    {
     "data": {
      "text/html": [
       "<div>\n",
       "<style scoped>\n",
       "    .dataframe tbody tr th:only-of-type {\n",
       "        vertical-align: middle;\n",
       "    }\n",
       "\n",
       "    .dataframe tbody tr th {\n",
       "        vertical-align: top;\n",
       "    }\n",
       "\n",
       "    .dataframe thead th {\n",
       "        text-align: right;\n",
       "    }\n",
       "</style>\n",
       "<table border=\"1\" class=\"dataframe\">\n",
       "  <thead>\n",
       "    <tr style=\"text-align: right;\">\n",
       "      <th></th>\n",
       "      <th>Email</th>\n",
       "      <th>fullname</th>\n",
       "      <th>first</th>\n",
       "      <th>last</th>\n",
       "      <th>email</th>\n",
       "    </tr>\n",
       "  </thead>\n",
       "  <tbody>\n",
       "    <tr>\n",
       "      <th>0</th>\n",
       "      <td>jasimcse@gmail.com</td>\n",
       "      <td>Jasim Uddin</td>\n",
       "      <td>Jasim</td>\n",
       "      <td>Uddin</td>\n",
       "      <td>NaN</td>\n",
       "    </tr>\n",
       "    <tr>\n",
       "      <th>1</th>\n",
       "      <td>shantocse@gmail.com</td>\n",
       "      <td>Shanto Rahman</td>\n",
       "      <td>Shanto</td>\n",
       "      <td>Rahman</td>\n",
       "      <td>NaN</td>\n",
       "    </tr>\n",
       "    <tr>\n",
       "      <th>2</th>\n",
       "      <td>rahimcse@gmail.com</td>\n",
       "      <td>Abdur Rahim</td>\n",
       "      <td>Abdur</td>\n",
       "      <td>Rahim</td>\n",
       "      <td>NaN</td>\n",
       "    </tr>\n",
       "    <tr>\n",
       "      <th>3</th>\n",
       "      <td>jewelcse@gmail.com</td>\n",
       "      <td>Jewel Mahmud</td>\n",
       "      <td>Jewel</td>\n",
       "      <td>Mahmud</td>\n",
       "      <td>NaN</td>\n",
       "    </tr>\n",
       "    <tr>\n",
       "      <th>4</th>\n",
       "      <td>NaN</td>\n",
       "      <td>Tamim Dari</td>\n",
       "      <td>Tamim</td>\n",
       "      <td>Dari</td>\n",
       "      <td>tamimcse@gmail.com</td>\n",
       "    </tr>\n",
       "  </tbody>\n",
       "</table>\n",
       "</div>"
      ],
      "text/plain": [
       "                 Email       fullname   first    last               email\n",
       "0   jasimcse@gmail.com    Jasim Uddin   Jasim   Uddin                 NaN\n",
       "1  shantocse@gmail.com  Shanto Rahman  Shanto  Rahman                 NaN\n",
       "2   rahimcse@gmail.com    Abdur Rahim   Abdur   Rahim                 NaN\n",
       "3   jewelcse@gmail.com   Jewel Mahmud   Jewel  Mahmud                 NaN\n",
       "4                  NaN     Tamim Dari   Tamim    Dari  tamimcse@gmail.com"
      ]
     },
     "execution_count": 14,
     "metadata": {},
     "output_type": "execute_result"
    }
   ],
   "source": [
    "df.append({'first': 'Tamim','last':'Dari', 'fullname': 'Tamim Dari', 'email': 'tamimcse@gmail.com'}, ignore_index = True)"
   ]
  },
  {
   "cell_type": "code",
   "execution_count": 15,
   "metadata": {},
   "outputs": [],
   "source": [
    "people = {\n",
    "    'first' : ['Jany', 'Shafiq'],\n",
    "    'last'  : ['jay', 'Rahman'],\n",
    "    'email' : ['janycse@gmail.com','shafiqcse@gmail.com']\n",
    "}"
   ]
  },
  {
   "cell_type": "code",
   "execution_count": 16,
   "metadata": {},
   "outputs": [],
   "source": [
    "df2 = pd.DataFrame(people)"
   ]
  },
  {
   "cell_type": "code",
   "execution_count": 17,
   "metadata": {},
   "outputs": [
    {
     "data": {
      "text/html": [
       "<div>\n",
       "<style scoped>\n",
       "    .dataframe tbody tr th:only-of-type {\n",
       "        vertical-align: middle;\n",
       "    }\n",
       "\n",
       "    .dataframe tbody tr th {\n",
       "        vertical-align: top;\n",
       "    }\n",
       "\n",
       "    .dataframe thead th {\n",
       "        text-align: right;\n",
       "    }\n",
       "</style>\n",
       "<table border=\"1\" class=\"dataframe\">\n",
       "  <thead>\n",
       "    <tr style=\"text-align: right;\">\n",
       "      <th></th>\n",
       "      <th>first</th>\n",
       "      <th>last</th>\n",
       "      <th>email</th>\n",
       "    </tr>\n",
       "  </thead>\n",
       "  <tbody>\n",
       "    <tr>\n",
       "      <th>0</th>\n",
       "      <td>Jany</td>\n",
       "      <td>jay</td>\n",
       "      <td>janycse@gmail.com</td>\n",
       "    </tr>\n",
       "    <tr>\n",
       "      <th>1</th>\n",
       "      <td>Shafiq</td>\n",
       "      <td>Rahman</td>\n",
       "      <td>shafiqcse@gmail.com</td>\n",
       "    </tr>\n",
       "  </tbody>\n",
       "</table>\n",
       "</div>"
      ],
      "text/plain": [
       "    first    last                email\n",
       "0    Jany     jay    janycse@gmail.com\n",
       "1  Shafiq  Rahman  shafiqcse@gmail.com"
      ]
     },
     "execution_count": 17,
     "metadata": {},
     "output_type": "execute_result"
    }
   ],
   "source": [
    "df2"
   ]
  },
  {
   "cell_type": "code",
   "execution_count": 18,
   "metadata": {},
   "outputs": [
    {
     "data": {
      "text/html": [
       "<div>\n",
       "<style scoped>\n",
       "    .dataframe tbody tr th:only-of-type {\n",
       "        vertical-align: middle;\n",
       "    }\n",
       "\n",
       "    .dataframe tbody tr th {\n",
       "        vertical-align: top;\n",
       "    }\n",
       "\n",
       "    .dataframe thead th {\n",
       "        text-align: right;\n",
       "    }\n",
       "</style>\n",
       "<table border=\"1\" class=\"dataframe\">\n",
       "  <thead>\n",
       "    <tr style=\"text-align: right;\">\n",
       "      <th></th>\n",
       "      <th>Email</th>\n",
       "      <th>fullname</th>\n",
       "      <th>first</th>\n",
       "      <th>last</th>\n",
       "      <th>email</th>\n",
       "    </tr>\n",
       "  </thead>\n",
       "  <tbody>\n",
       "    <tr>\n",
       "      <th>0</th>\n",
       "      <td>jasimcse@gmail.com</td>\n",
       "      <td>Jasim Uddin</td>\n",
       "      <td>Jasim</td>\n",
       "      <td>Uddin</td>\n",
       "      <td>NaN</td>\n",
       "    </tr>\n",
       "    <tr>\n",
       "      <th>1</th>\n",
       "      <td>shantocse@gmail.com</td>\n",
       "      <td>Shanto Rahman</td>\n",
       "      <td>Shanto</td>\n",
       "      <td>Rahman</td>\n",
       "      <td>NaN</td>\n",
       "    </tr>\n",
       "    <tr>\n",
       "      <th>2</th>\n",
       "      <td>rahimcse@gmail.com</td>\n",
       "      <td>Abdur Rahim</td>\n",
       "      <td>Abdur</td>\n",
       "      <td>Rahim</td>\n",
       "      <td>NaN</td>\n",
       "    </tr>\n",
       "    <tr>\n",
       "      <th>3</th>\n",
       "      <td>jewelcse@gmail.com</td>\n",
       "      <td>Jewel Mahmud</td>\n",
       "      <td>Jewel</td>\n",
       "      <td>Mahmud</td>\n",
       "      <td>NaN</td>\n",
       "    </tr>\n",
       "    <tr>\n",
       "      <th>4</th>\n",
       "      <td>NaN</td>\n",
       "      <td>NaN</td>\n",
       "      <td>Jany</td>\n",
       "      <td>jay</td>\n",
       "      <td>janycse@gmail.com</td>\n",
       "    </tr>\n",
       "    <tr>\n",
       "      <th>5</th>\n",
       "      <td>NaN</td>\n",
       "      <td>NaN</td>\n",
       "      <td>Shafiq</td>\n",
       "      <td>Rahman</td>\n",
       "      <td>shafiqcse@gmail.com</td>\n",
       "    </tr>\n",
       "  </tbody>\n",
       "</table>\n",
       "</div>"
      ],
      "text/plain": [
       "                 Email       fullname   first    last                email\n",
       "0   jasimcse@gmail.com    Jasim Uddin   Jasim   Uddin                  NaN\n",
       "1  shantocse@gmail.com  Shanto Rahman  Shanto  Rahman                  NaN\n",
       "2   rahimcse@gmail.com    Abdur Rahim   Abdur   Rahim                  NaN\n",
       "3   jewelcse@gmail.com   Jewel Mahmud   Jewel  Mahmud                  NaN\n",
       "4                  NaN            NaN    Jany     jay    janycse@gmail.com\n",
       "5                  NaN            NaN  Shafiq  Rahman  shafiqcse@gmail.com"
      ]
     },
     "execution_count": 18,
     "metadata": {},
     "output_type": "execute_result"
    }
   ],
   "source": [
    "df.append(df2, ignore_index = True)"
   ]
  },
  {
   "cell_type": "code",
   "execution_count": 19,
   "metadata": {},
   "outputs": [],
   "source": [
    "df = df.append(df2, ignore_index = True)"
   ]
  },
  {
   "cell_type": "code",
   "execution_count": 20,
   "metadata": {},
   "outputs": [
    {
     "data": {
      "text/html": [
       "<div>\n",
       "<style scoped>\n",
       "    .dataframe tbody tr th:only-of-type {\n",
       "        vertical-align: middle;\n",
       "    }\n",
       "\n",
       "    .dataframe tbody tr th {\n",
       "        vertical-align: top;\n",
       "    }\n",
       "\n",
       "    .dataframe thead th {\n",
       "        text-align: right;\n",
       "    }\n",
       "</style>\n",
       "<table border=\"1\" class=\"dataframe\">\n",
       "  <thead>\n",
       "    <tr style=\"text-align: right;\">\n",
       "      <th></th>\n",
       "      <th>Email</th>\n",
       "      <th>fullname</th>\n",
       "      <th>first</th>\n",
       "      <th>last</th>\n",
       "      <th>email</th>\n",
       "    </tr>\n",
       "  </thead>\n",
       "  <tbody>\n",
       "    <tr>\n",
       "      <th>0</th>\n",
       "      <td>jasimcse@gmail.com</td>\n",
       "      <td>Jasim Uddin</td>\n",
       "      <td>Jasim</td>\n",
       "      <td>Uddin</td>\n",
       "      <td>NaN</td>\n",
       "    </tr>\n",
       "    <tr>\n",
       "      <th>1</th>\n",
       "      <td>shantocse@gmail.com</td>\n",
       "      <td>Shanto Rahman</td>\n",
       "      <td>Shanto</td>\n",
       "      <td>Rahman</td>\n",
       "      <td>NaN</td>\n",
       "    </tr>\n",
       "    <tr>\n",
       "      <th>2</th>\n",
       "      <td>rahimcse@gmail.com</td>\n",
       "      <td>Abdur Rahim</td>\n",
       "      <td>Abdur</td>\n",
       "      <td>Rahim</td>\n",
       "      <td>NaN</td>\n",
       "    </tr>\n",
       "    <tr>\n",
       "      <th>3</th>\n",
       "      <td>jewelcse@gmail.com</td>\n",
       "      <td>Jewel Mahmud</td>\n",
       "      <td>Jewel</td>\n",
       "      <td>Mahmud</td>\n",
       "      <td>NaN</td>\n",
       "    </tr>\n",
       "    <tr>\n",
       "      <th>4</th>\n",
       "      <td>NaN</td>\n",
       "      <td>NaN</td>\n",
       "      <td>Jany</td>\n",
       "      <td>jay</td>\n",
       "      <td>janycse@gmail.com</td>\n",
       "    </tr>\n",
       "    <tr>\n",
       "      <th>5</th>\n",
       "      <td>NaN</td>\n",
       "      <td>NaN</td>\n",
       "      <td>Shafiq</td>\n",
       "      <td>Rahman</td>\n",
       "      <td>shafiqcse@gmail.com</td>\n",
       "    </tr>\n",
       "  </tbody>\n",
       "</table>\n",
       "</div>"
      ],
      "text/plain": [
       "                 Email       fullname   first    last                email\n",
       "0   jasimcse@gmail.com    Jasim Uddin   Jasim   Uddin                  NaN\n",
       "1  shantocse@gmail.com  Shanto Rahman  Shanto  Rahman                  NaN\n",
       "2   rahimcse@gmail.com    Abdur Rahim   Abdur   Rahim                  NaN\n",
       "3   jewelcse@gmail.com   Jewel Mahmud   Jewel  Mahmud                  NaN\n",
       "4                  NaN            NaN    Jany     jay    janycse@gmail.com\n",
       "5                  NaN            NaN  Shafiq  Rahman  shafiqcse@gmail.com"
      ]
     },
     "execution_count": 20,
     "metadata": {},
     "output_type": "execute_result"
    }
   ],
   "source": [
    "df"
   ]
  },
  {
   "cell_type": "code",
   "execution_count": 21,
   "metadata": {},
   "outputs": [
    {
     "data": {
      "text/html": [
       "<div>\n",
       "<style scoped>\n",
       "    .dataframe tbody tr th:only-of-type {\n",
       "        vertical-align: middle;\n",
       "    }\n",
       "\n",
       "    .dataframe tbody tr th {\n",
       "        vertical-align: top;\n",
       "    }\n",
       "\n",
       "    .dataframe thead th {\n",
       "        text-align: right;\n",
       "    }\n",
       "</style>\n",
       "<table border=\"1\" class=\"dataframe\">\n",
       "  <thead>\n",
       "    <tr style=\"text-align: right;\">\n",
       "      <th></th>\n",
       "      <th>Email</th>\n",
       "      <th>fullname</th>\n",
       "      <th>first</th>\n",
       "      <th>last</th>\n",
       "      <th>email</th>\n",
       "    </tr>\n",
       "  </thead>\n",
       "  <tbody>\n",
       "    <tr>\n",
       "      <th>0</th>\n",
       "      <td>jasimcse@gmail.com</td>\n",
       "      <td>Jasim Uddin</td>\n",
       "      <td>Jasim</td>\n",
       "      <td>Uddin</td>\n",
       "      <td>NaN</td>\n",
       "    </tr>\n",
       "    <tr>\n",
       "      <th>1</th>\n",
       "      <td>shantocse@gmail.com</td>\n",
       "      <td>Shanto Rahman</td>\n",
       "      <td>Shanto</td>\n",
       "      <td>Rahman</td>\n",
       "      <td>NaN</td>\n",
       "    </tr>\n",
       "    <tr>\n",
       "      <th>2</th>\n",
       "      <td>rahimcse@gmail.com</td>\n",
       "      <td>Abdur Rahim</td>\n",
       "      <td>Abdur</td>\n",
       "      <td>Rahim</td>\n",
       "      <td>NaN</td>\n",
       "    </tr>\n",
       "    <tr>\n",
       "      <th>3</th>\n",
       "      <td>jewelcse@gmail.com</td>\n",
       "      <td>Jewel Mahmud</td>\n",
       "      <td>Jewel</td>\n",
       "      <td>Mahmud</td>\n",
       "      <td>NaN</td>\n",
       "    </tr>\n",
       "    <tr>\n",
       "      <th>5</th>\n",
       "      <td>NaN</td>\n",
       "      <td>NaN</td>\n",
       "      <td>Shafiq</td>\n",
       "      <td>Rahman</td>\n",
       "      <td>shafiqcse@gmail.com</td>\n",
       "    </tr>\n",
       "  </tbody>\n",
       "</table>\n",
       "</div>"
      ],
      "text/plain": [
       "                 Email       fullname   first    last                email\n",
       "0   jasimcse@gmail.com    Jasim Uddin   Jasim   Uddin                  NaN\n",
       "1  shantocse@gmail.com  Shanto Rahman  Shanto  Rahman                  NaN\n",
       "2   rahimcse@gmail.com    Abdur Rahim   Abdur   Rahim                  NaN\n",
       "3   jewelcse@gmail.com   Jewel Mahmud   Jewel  Mahmud                  NaN\n",
       "5                  NaN            NaN  Shafiq  Rahman  shafiqcse@gmail.com"
      ]
     },
     "execution_count": 21,
     "metadata": {},
     "output_type": "execute_result"
    }
   ],
   "source": [
    "df.drop(index = 4)"
   ]
  },
  {
   "cell_type": "code",
   "execution_count": 22,
   "metadata": {},
   "outputs": [],
   "source": [
    "\n",
    "filt = df['last']=='Uddin'\n",
    "df.drop(index = df[filt].index, inplace = True)"
   ]
  },
  {
   "cell_type": "code",
   "execution_count": 23,
   "metadata": {},
   "outputs": [
    {
     "data": {
      "text/html": [
       "<div>\n",
       "<style scoped>\n",
       "    .dataframe tbody tr th:only-of-type {\n",
       "        vertical-align: middle;\n",
       "    }\n",
       "\n",
       "    .dataframe tbody tr th {\n",
       "        vertical-align: top;\n",
       "    }\n",
       "\n",
       "    .dataframe thead th {\n",
       "        text-align: right;\n",
       "    }\n",
       "</style>\n",
       "<table border=\"1\" class=\"dataframe\">\n",
       "  <thead>\n",
       "    <tr style=\"text-align: right;\">\n",
       "      <th></th>\n",
       "      <th>Email</th>\n",
       "      <th>fullname</th>\n",
       "      <th>first</th>\n",
       "      <th>last</th>\n",
       "      <th>email</th>\n",
       "    </tr>\n",
       "  </thead>\n",
       "  <tbody>\n",
       "    <tr>\n",
       "      <th>1</th>\n",
       "      <td>shantocse@gmail.com</td>\n",
       "      <td>Shanto Rahman</td>\n",
       "      <td>Shanto</td>\n",
       "      <td>Rahman</td>\n",
       "      <td>NaN</td>\n",
       "    </tr>\n",
       "    <tr>\n",
       "      <th>2</th>\n",
       "      <td>rahimcse@gmail.com</td>\n",
       "      <td>Abdur Rahim</td>\n",
       "      <td>Abdur</td>\n",
       "      <td>Rahim</td>\n",
       "      <td>NaN</td>\n",
       "    </tr>\n",
       "    <tr>\n",
       "      <th>3</th>\n",
       "      <td>jewelcse@gmail.com</td>\n",
       "      <td>Jewel Mahmud</td>\n",
       "      <td>Jewel</td>\n",
       "      <td>Mahmud</td>\n",
       "      <td>NaN</td>\n",
       "    </tr>\n",
       "    <tr>\n",
       "      <th>4</th>\n",
       "      <td>NaN</td>\n",
       "      <td>NaN</td>\n",
       "      <td>Jany</td>\n",
       "      <td>jay</td>\n",
       "      <td>janycse@gmail.com</td>\n",
       "    </tr>\n",
       "    <tr>\n",
       "      <th>5</th>\n",
       "      <td>NaN</td>\n",
       "      <td>NaN</td>\n",
       "      <td>Shafiq</td>\n",
       "      <td>Rahman</td>\n",
       "      <td>shafiqcse@gmail.com</td>\n",
       "    </tr>\n",
       "  </tbody>\n",
       "</table>\n",
       "</div>"
      ],
      "text/plain": [
       "                 Email       fullname   first    last                email\n",
       "1  shantocse@gmail.com  Shanto Rahman  Shanto  Rahman                  NaN\n",
       "2   rahimcse@gmail.com    Abdur Rahim   Abdur   Rahim                  NaN\n",
       "3   jewelcse@gmail.com   Jewel Mahmud   Jewel  Mahmud                  NaN\n",
       "4                  NaN            NaN    Jany     jay    janycse@gmail.com\n",
       "5                  NaN            NaN  Shafiq  Rahman  shafiqcse@gmail.com"
      ]
     },
     "execution_count": 23,
     "metadata": {},
     "output_type": "execute_result"
    }
   ],
   "source": [
    "df"
   ]
  },
  {
   "cell_type": "code",
   "execution_count": null,
   "metadata": {},
   "outputs": [],
   "source": []
  }
 ],
 "metadata": {
  "kernelspec": {
   "display_name": "Python 3",
   "language": "python",
   "name": "python3"
  },
  "language_info": {
   "codemirror_mode": {
    "name": "ipython",
    "version": 3
   },
   "file_extension": ".py",
   "mimetype": "text/x-python",
   "name": "python",
   "nbconvert_exporter": "python",
   "pygments_lexer": "ipython3",
   "version": "3.7.4"
  }
 },
 "nbformat": 4,
 "nbformat_minor": 4
}
